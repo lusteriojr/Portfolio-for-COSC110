{
  "nbformat": 4,
  "nbformat_minor": 0,
  "metadata": {
    "colab": {
      "provenance": [],
      "include_colab_link": true
    },
    "kernelspec": {
      "name": "python3",
      "display_name": "Python 3"
    },
    "language_info": {
      "name": "python"
    }
  },
  "cells": [
    {
      "cell_type": "markdown",
      "metadata": {
        "id": "view-in-github",
        "colab_type": "text"
      },
      "source": [
        "<a href=\"https://colab.research.google.com/github/lusteriojr/Numerical-and-Symbolic-Computation/blob/main/lab3_sympy_lusterio.ipynb\" target=\"_parent\"><img src=\"https://colab.research.google.com/assets/colab-badge.svg\" alt=\"Open In Colab\"/></a>"
      ]
    },
    {
      "cell_type": "markdown",
      "source": [
        "## Laboratory Activity #3: Introduction to SymPy\n",
        "\n",
        "###Objectives:\n",
        "- Apply basic symbolic calculations using SymPy"
      ],
      "metadata": {
        "id": "ry6k4qR8H7Bq"
      }
    },
    {
      "cell_type": "markdown",
      "source": [
        "#### Task # 1: Include all necessary sympy modules\n",
        "\n",
        "\n"
      ],
      "metadata": {
        "id": "G_Ua0LKbIPfK"
      }
    },
    {
      "cell_type": "code",
      "execution_count": 7,
      "metadata": {
        "id": "DPFz-qLYHiFJ"
      },
      "outputs": [],
      "source": [
        "# Import the relevant sympy modules\n",
        "from sympy import symbols, Eq, solve, simplify, expand, factor, diff, integrate, Matrix\n",
        "from sympy import Rational, sqrt, simplify\n",
        "from sympy import symbols, Eq\n",
        "\n"
      ]
    },
    {
      "cell_type": "markdown",
      "source": [
        "#### Task # 2: Basic calculation\n",
        "Solve for the following:\n",
        "\n",
        "- $\\frac{5}{3} + \\frac{\\sqrt{10}}{2}$\n",
        "- $\\sqrt{50} \\times \\sqrt{\\frac{5}{9}}$"
      ],
      "metadata": {
        "id": "3i4pd__LIl1X"
      }
    },
    {
      "cell_type": "code",
      "source": [
        "# Answer for the first expression here\n",
        "expr1 = Rational(5, 3) + sqrt(10) / 2\n",
        "simplified_expr1 = simplify(expr1)\n",
        "print(simplified_expr1)"
      ],
      "metadata": {
        "id": "Nk9U7XU8RhEH",
        "colab": {
          "base_uri": "https://localhost:8080/"
        },
        "outputId": "ed0fce41-40ff-4447-a98f-ad87d931b83e"
      },
      "execution_count": 5,
      "outputs": [
        {
          "output_type": "stream",
          "name": "stdout",
          "text": [
            "sqrt(10)/2 + 5/3\n"
          ]
        }
      ]
    },
    {
      "cell_type": "code",
      "source": [
        "# Answer for the second expression here\n",
        "expr2 = sqrt(50) * sqrt(Rational(5, 9))\n",
        "simplified_expr2 = simplify(expr2)\n",
        "print(simplified_expr2)"
      ],
      "metadata": {
        "id": "6baME6J6Rgru",
        "colab": {
          "base_uri": "https://localhost:8080/"
        },
        "outputId": "d07dead7-2817-4e0f-9f65-f5ff337eb1a9"
      },
      "execution_count": 6,
      "outputs": [
        {
          "output_type": "stream",
          "name": "stdout",
          "text": [
            "5*sqrt(10)/3\n"
          ]
        }
      ]
    },
    {
      "cell_type": "markdown",
      "source": [
        "#### Task # 3: Symbols\n",
        "Create the equation for the following using `Symbols`:\n",
        "- $2x+3y=12$\n",
        "- $x−y=4$"
      ],
      "metadata": {
        "id": "UH2m4ur7NERn"
      }
    },
    {
      "cell_type": "code",
      "source": [
        "# Answer for the first equation here\n",
        "x, y = symbols('x y')\n",
        "eq1 = Eq(2*x + 3*y, 12)\n",
        "print(eq1)"
      ],
      "metadata": {
        "id": "4RUw45azRejM",
        "colab": {
          "base_uri": "https://localhost:8080/"
        },
        "outputId": "a38ee1c6-9c3c-4413-9895-d4183795d9e1"
      },
      "execution_count": 9,
      "outputs": [
        {
          "output_type": "stream",
          "name": "stdout",
          "text": [
            "Eq(2*x + 3*y, 12)\n"
          ]
        }
      ]
    },
    {
      "cell_type": "code",
      "source": [
        "# Answer for the second equation here\n",
        "eq2 = Eq(x - y, 4)\n",
        "print(eq2)"
      ],
      "metadata": {
        "id": "nKlN5AeURwI6",
        "colab": {
          "base_uri": "https://localhost:8080/"
        },
        "outputId": "c0d8154e-262e-4e98-ce7f-c212fe859d92"
      },
      "execution_count": 10,
      "outputs": [
        {
          "output_type": "stream",
          "name": "stdout",
          "text": [
            "Eq(x - y, 4)\n"
          ]
        }
      ]
    },
    {
      "cell_type": "markdown",
      "source": [
        "#### Task # 3: Simplification\n",
        "Simplify the following equations using the `simplify` method\n",
        "\n",
        "- $\\frac{x^2 + 2x + 1}{x + 1}$\n",
        "\n",
        "- $\\frac{1 - \\frac{1}{1 + \\frac{1}{x}}}{1 + \\frac{1}{x}}\n",
        "$"
      ],
      "metadata": {
        "id": "IS8vTb7FPDbQ"
      }
    },
    {
      "cell_type": "code",
      "source": [
        "# Simplify the first equation here\n",
        "x = symbols('x')\n",
        "expr1 = (x**2 + 2*x + 1) / (x + 1)\n",
        "simplified_expr1 = simplify(expr1)\n",
        "print(simplified_expr1)"
      ],
      "metadata": {
        "id": "38CFQlfxR0TV",
        "colab": {
          "base_uri": "https://localhost:8080/"
        },
        "outputId": "39de55df-b9b2-4f7d-bed8-5c66779e523e"
      },
      "execution_count": 11,
      "outputs": [
        {
          "output_type": "stream",
          "name": "stdout",
          "text": [
            "x + 1\n"
          ]
        }
      ]
    },
    {
      "cell_type": "code",
      "source": [
        "# Simplify the second equation here\n",
        "expr2 = (1 - 1 / (1 + 1/x)) / (1 + 1/x)\n",
        "simplified_expr2 = simplify(expr2)\n",
        "print(simplified_expr2)"
      ],
      "metadata": {
        "id": "fSi0XQcWR2uo",
        "colab": {
          "base_uri": "https://localhost:8080/"
        },
        "outputId": "21aac3b7-e131-484a-ce34-96d0d6d26915"
      },
      "execution_count": 12,
      "outputs": [
        {
          "output_type": "stream",
          "name": "stdout",
          "text": [
            "x/(x + 1)**2\n"
          ]
        }
      ]
    },
    {
      "cell_type": "markdown",
      "source": [
        "### Task # 4: Expansion\n",
        "Expand the following expressions using the `expand` method\n",
        "- $(2x + 2)^2$\n",
        "- $(2x + y)(x - 2y)$\n"
      ],
      "metadata": {
        "id": "oXI_LJ-hRR_n"
      }
    },
    {
      "cell_type": "code",
      "source": [
        "# Expand the first equation here\n",
        "exp1 = expand((2*x + 2)**2)\n",
        "print(exp1)"
      ],
      "metadata": {
        "id": "OwjWp39uS0Jb",
        "colab": {
          "base_uri": "https://localhost:8080/"
        },
        "outputId": "e017dbb0-a3f7-4ff6-ac4d-4f226beed13c"
      },
      "execution_count": 13,
      "outputs": [
        {
          "output_type": "stream",
          "name": "stdout",
          "text": [
            "4*x**2 + 8*x + 4\n"
          ]
        }
      ]
    },
    {
      "cell_type": "code",
      "source": [
        "# Expand the second equation here\n",
        "y = symbols('y')\n",
        "exp2 = expand((2*x + y) * (x - 2*y))\n",
        "print(exp2)"
      ],
      "metadata": {
        "id": "g-QEmoMCS6TH",
        "colab": {
          "base_uri": "https://localhost:8080/"
        },
        "outputId": "29b021f6-a70b-4b7a-c61f-d643ed02bc20"
      },
      "execution_count": 14,
      "outputs": [
        {
          "output_type": "stream",
          "name": "stdout",
          "text": [
            "2*x**2 - 3*x*y - 2*y**2\n"
          ]
        }
      ]
    }
  ]
}